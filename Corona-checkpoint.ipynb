{
 "cells": [
  {
   "cell_type": "code",
   "execution_count": null,
   "metadata": {},
   "outputs": [],
   "source": [
    "import pandas as pd\n",
    "import numpy as np\n",
    "import pandas as pd"
   ]
  },
  {
   "cell_type": "markdown",
   "metadata": {},
   "source": [
    "## Data Preprocessing"
   ]
  },
  {
   "cell_type": "code",
   "execution_count": null,
   "metadata": {},
   "outputs": [],
   "source": [
    "data = pd.read_csv('corona_dataset.csv')\n",
    "data.head()\n"
   ]
  },
  {
   "cell_type": "code",
   "execution_count": null,
   "metadata": {},
   "outputs": [],
   "source": [
    "\"\"\" \n",
    "perfrom data preprocessing on 'data' Dataframe\n",
    "The final dataframe must be named data\n",
    "eg .... data =  {preprocessed data}    \n",
    "\"\"\"\n",
    "\n",
    "\n",
    "data = data.dropna()\n"
   ]
  },
  {
   "cell_type": "code",
   "execution_count": null,
   "metadata": {},
   "outputs": [],
   "source": [
    "\"\"\" separating features and target \"\"\"\n",
    "\n",
    "Y = data['Infect_Prob']\n",
    "X = data.drop(['Infect_Prob'],axis=1)"
   ]
  },
  {
   "cell_type": "code",
   "execution_count": null,
   "metadata": {},
   "outputs": [],
   "source": [
    "from sklearn.model_selection import train_test_split\n",
    "\n",
    "train_X,test_X,train_Y,test_Y = train_test_split(X,Y)\n",
    "\n",
    "print(\"Training Size : \",train_X.shape)\n",
    "print(\"Testing Size : \",test_X.shape)"
   ]
  },
  {
   "cell_type": "markdown",
   "metadata": {},
   "source": [
    "### Regression to predict the probability of Corona Infection"
   ]
  },
  {
   "cell_type": "code",
   "execution_count": null,
   "metadata": {},
   "outputs": [],
   "source": [
    "from sklearn.ensemble import RandomForestRegressor\n",
    "regressor = RandomForestRegressor()"
   ]
  },
  {
   "cell_type": "code",
   "execution_count": null,
   "metadata": {},
   "outputs": [],
   "source": [
    "\"\"\" regression works with numeric values,\n",
    "make sure you map all the string values in the data to some numeric value if required\n",
    "\"\"\"\n",
    "\n",
    "regressor.fit(train_X,train_Y)"
   ]
  },
  {
   "cell_type": "markdown",
   "metadata": {},
   "source": [
    "### Performance evaluation"
   ]
  },
  {
   "cell_type": "code",
   "execution_count": null,
   "metadata": {},
   "outputs": [],
   "source": [
    "\"\"\" complete the function RMSE \n",
    "    \n",
    "    The Root Mean Square Error is defined in the following way\n",
    "    sqrt(summation((y_pred[i]-y_true[i])^2)/N)\n",
    "    where:\n",
    "         i varies from 0 to N\n",
    "         \n",
    "    (use numpy)     \n",
    "\n",
    "\"\"\"\n",
    "\n",
    "def RMSE(y_pred,y_true):\n",
    "    \n",
    "    rmse = 0.0\n",
    "    # return rmse\n",
    "    \n",
    "    return rmse\n",
    "    \n",
    "    \n",
    "\n",
    "y_pred = regressor.predict(test_X)\n",
    "\n",
    "print(\"Root Mean Square Error = \",RMSE(y_pred,test_Y))"
   ]
  },
  {
   "cell_type": "code",
   "execution_count": null,
   "metadata": {},
   "outputs": [],
   "source": []
  }
 ],
 "metadata": {
  "kernelspec": {
   "display_name": "Python 3",
   "language": "python",
   "name": "python3"
  },
  "language_info": {
   "codemirror_mode": {
    "name": "ipython",
    "version": 3
   },
   "file_extension": ".py",
   "mimetype": "text/x-python",
   "name": "python",
   "nbconvert_exporter": "python",
   "pygments_lexer": "ipython3",
   "version": "3.7.4"
  }
 },
 "nbformat": 4,
 "nbformat_minor": 4
}
