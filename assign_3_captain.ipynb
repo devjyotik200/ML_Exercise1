{
 "cells": [
  {
   "cell_type": "code",
   "execution_count": 22,
   "metadata": {},
   "outputs": [
    {
     "name": "stdout",
     "output_type": "stream",
     "text": [
      "Enter numbers1 2 -2  -1\n",
      "[1, 2]\n",
      "[-2, -1]\n"
     ]
    }
   ],
   "source": [
    "main_list=list(map(int,input(\"Enter numbers\").rstrip().split()))\n",
    "pos_list=[]\n",
    "neg_list=[]\n",
    "for i in main_list:\n",
    "    if i>0:\n",
    "        pos_list.append(i)\n",
    "    else:\n",
    "        neg_list.append(i)\n",
    "print(pos_list)\n",
    "print(neg_list)\n"
   ]
  },
  {
   "cell_type": "code",
   "execution_count": 23,
   "metadata": {},
   "outputs": [
    {
     "name": "stdout",
     "output_type": "stream",
     "text": [
      "('b', 'c')\n"
     ]
    }
   ],
   "source": [
    "my_tuple=('a','b','c','d','e','f')\n",
    "print(my_tuple[1:3])"
   ]
  },
  {
   "cell_type": "code",
   "execution_count": 26,
   "metadata": {},
   "outputs": [
    {
     "name": "stdout",
     "output_type": "stream",
     "text": [
      "{'karan': 'A', 'dev': 'B', 'sharma': 'D'}\n",
      "{'sharma': 'D'}\n"
     ]
    }
   ],
   "source": [
    "my_dict={\n",
    "    'karan':\"A\",\n",
    "    'dev':'B',\n",
    "    'sharma':'D'\n",
    "}\n",
    "print(my_dict)\n",
    "del my_dict['dev']\n",
    "my_dict.pop('karan')\n",
    "print(my_dict)"
   ]
  },
  {
   "cell_type": "code",
   "execution_count": null,
   "metadata": {},
   "outputs": [],
   "source": []
  }
 ],
 "metadata": {
  "kernelspec": {
   "display_name": "Python 3",
   "language": "python",
   "name": "python3"
  },
  "language_info": {
   "codemirror_mode": {
    "name": "ipython",
    "version": 3
   },
   "file_extension": ".py",
   "mimetype": "text/x-python",
   "name": "python",
   "nbconvert_exporter": "python",
   "pygments_lexer": "ipython3",
   "version": "3.7.4"
  }
 },
 "nbformat": 4,
 "nbformat_minor": 2
}
